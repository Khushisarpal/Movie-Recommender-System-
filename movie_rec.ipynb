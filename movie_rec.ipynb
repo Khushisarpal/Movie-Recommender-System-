{
 "cells": [
  {
   "cell_type": "code",
   "execution_count": 1,
   "id": "8e2eec12-c8e9-4623-a3ae-c42a4f5fc94d",
   "metadata": {},
   "outputs": [],
   "source": [
    "import pandas as pd\n"
   ]
  },
  {
   "cell_type": "code",
   "execution_count": 2,
   "id": "9ea8f4c8-59e3-41de-94cf-a451aba62bc0",
   "metadata": {},
   "outputs": [],
   "source": [
    "df=pd.read_csv(\"imdb-movies-dataset.csv\")"
   ]
  },
  {
   "cell_type": "code",
   "execution_count": 3,
   "id": "7e1e6f3f-64fc-4edd-9dd8-32dcda45fef1",
   "metadata": {},
   "outputs": [
    {
     "data": {
      "text/html": [
       "<div>\n",
       "<style scoped>\n",
       "    .dataframe tbody tr th:only-of-type {\n",
       "        vertical-align: middle;\n",
       "    }\n",
       "\n",
       "    .dataframe tbody tr th {\n",
       "        vertical-align: top;\n",
       "    }\n",
       "\n",
       "    .dataframe thead th {\n",
       "        text-align: right;\n",
       "    }\n",
       "</style>\n",
       "<table border=\"1\" class=\"dataframe\">\n",
       "  <thead>\n",
       "    <tr style=\"text-align: right;\">\n",
       "      <th></th>\n",
       "      <th>Poster</th>\n",
       "      <th>Title</th>\n",
       "      <th>Year</th>\n",
       "      <th>Certificate</th>\n",
       "      <th>Duration (min)</th>\n",
       "      <th>Genre</th>\n",
       "      <th>Rating</th>\n",
       "      <th>Metascore</th>\n",
       "      <th>Director</th>\n",
       "      <th>Cast</th>\n",
       "      <th>Votes</th>\n",
       "      <th>Description</th>\n",
       "      <th>Review Count</th>\n",
       "      <th>Review Title</th>\n",
       "      <th>Review</th>\n",
       "    </tr>\n",
       "  </thead>\n",
       "  <tbody>\n",
       "    <tr>\n",
       "      <th>0</th>\n",
       "      <td>https://m.media-amazon.com/images/M/MV5BYWRkZj...</td>\n",
       "      <td>The Idea of You</td>\n",
       "      <td>2023.0</td>\n",
       "      <td>R</td>\n",
       "      <td>115.0</td>\n",
       "      <td>Comedy, Drama, Romance</td>\n",
       "      <td>6.4</td>\n",
       "      <td>67.0</td>\n",
       "      <td>Michael Showalter</td>\n",
       "      <td>Anne Hathaway, Nicholas Galitzine, Ella Rubin,...</td>\n",
       "      <td>28,744</td>\n",
       "      <td>Solène, a 40-year-old single mom, begins an un...</td>\n",
       "      <td>166</td>\n",
       "      <td>Hypocrisy as an idea</td>\n",
       "      <td>This film, as well as the reaction to it, is a...</td>\n",
       "    </tr>\n",
       "    <tr>\n",
       "      <th>1</th>\n",
       "      <td>https://m.media-amazon.com/images/M/MV5BZGI4NT...</td>\n",
       "      <td>Kingdom of the Planet of the Apes</td>\n",
       "      <td>2023.0</td>\n",
       "      <td>PG-13</td>\n",
       "      <td>145.0</td>\n",
       "      <td>Action, Adventure, Sci-Fi</td>\n",
       "      <td>7.3</td>\n",
       "      <td>66.0</td>\n",
       "      <td>Wes Ball</td>\n",
       "      <td>Owen Teague, Freya Allan, Kevin Durand, Peter ...</td>\n",
       "      <td>22,248</td>\n",
       "      <td>Many years after the reign of Caesar, a young ...</td>\n",
       "      <td>183</td>\n",
       "      <td>A phenomenal start to another trilogy!</td>\n",
       "      <td>I'm a big fan of all the planet of the apes, a...</td>\n",
       "    </tr>\n",
       "    <tr>\n",
       "      <th>2</th>\n",
       "      <td>https://m.media-amazon.com/images/M/MV5BZjIyOT...</td>\n",
       "      <td>Unfrosted</td>\n",
       "      <td>2023.0</td>\n",
       "      <td>PG-13</td>\n",
       "      <td>97.0</td>\n",
       "      <td>Biography, Comedy, History</td>\n",
       "      <td>5.5</td>\n",
       "      <td>42.0</td>\n",
       "      <td>Jerry Seinfeld</td>\n",
       "      <td>Isaac Bae, Jerry Seinfeld, Chris Rickett, Rach...</td>\n",
       "      <td>18,401</td>\n",
       "      <td>In 1963 Michigan, business rivals Kellogg's an...</td>\n",
       "      <td>333</td>\n",
       "      <td>not funny</td>\n",
       "      <td>Pretty much the worst criticism you can lay on...</td>\n",
       "    </tr>\n",
       "    <tr>\n",
       "      <th>3</th>\n",
       "      <td>https://m.media-amazon.com/images/M/MV5BMjA5Zj...</td>\n",
       "      <td>The Fall Guy</td>\n",
       "      <td>2023.0</td>\n",
       "      <td>PG-13</td>\n",
       "      <td>126.0</td>\n",
       "      <td>Action, Comedy, Drama</td>\n",
       "      <td>7.3</td>\n",
       "      <td>73.0</td>\n",
       "      <td>David Leitch</td>\n",
       "      <td>Ryan Gosling, Emily Blunt, Aaron Taylor-Johnso...</td>\n",
       "      <td>38,953</td>\n",
       "      <td>A down-and-out stuntman must find the missing ...</td>\n",
       "      <td>384</td>\n",
       "      <td>Everything you needed and more!</td>\n",
       "      <td>Just got out of the Austin premier at SXSW and...</td>\n",
       "    </tr>\n",
       "    <tr>\n",
       "      <th>4</th>\n",
       "      <td>https://m.media-amazon.com/images/M/MV5BNTk1MT...</td>\n",
       "      <td>Challengers</td>\n",
       "      <td>2023.0</td>\n",
       "      <td>R</td>\n",
       "      <td>131.0</td>\n",
       "      <td>Drama, Romance, Sport</td>\n",
       "      <td>7.7</td>\n",
       "      <td>82.0</td>\n",
       "      <td>Luca Guadagnino</td>\n",
       "      <td>Zendaya, Mike Faist, Josh O'Connor, Darnell Ap...</td>\n",
       "      <td>32,517</td>\n",
       "      <td>Tashi, a former tennis prodigy turned coach, t...</td>\n",
       "      <td>194</td>\n",
       "      <td>Watch \"Match Point\" instead</td>\n",
       "      <td>This is a tough one. I liked the concept and t...</td>\n",
       "    </tr>\n",
       "  </tbody>\n",
       "</table>\n",
       "</div>"
      ],
      "text/plain": [
       "                                              Poster  \\\n",
       "0  https://m.media-amazon.com/images/M/MV5BYWRkZj...   \n",
       "1  https://m.media-amazon.com/images/M/MV5BZGI4NT...   \n",
       "2  https://m.media-amazon.com/images/M/MV5BZjIyOT...   \n",
       "3  https://m.media-amazon.com/images/M/MV5BMjA5Zj...   \n",
       "4  https://m.media-amazon.com/images/M/MV5BNTk1MT...   \n",
       "\n",
       "                               Title    Year Certificate  Duration (min)  \\\n",
       "0                    The Idea of You  2023.0           R           115.0   \n",
       "1  Kingdom of the Planet of the Apes  2023.0       PG-13           145.0   \n",
       "2                          Unfrosted  2023.0       PG-13            97.0   \n",
       "3                       The Fall Guy  2023.0       PG-13           126.0   \n",
       "4                        Challengers  2023.0           R           131.0   \n",
       "\n",
       "                        Genre  Rating  Metascore           Director  \\\n",
       "0      Comedy, Drama, Romance     6.4       67.0  Michael Showalter   \n",
       "1   Action, Adventure, Sci-Fi     7.3       66.0           Wes Ball   \n",
       "2  Biography, Comedy, History     5.5       42.0     Jerry Seinfeld   \n",
       "3       Action, Comedy, Drama     7.3       73.0       David Leitch   \n",
       "4       Drama, Romance, Sport     7.7       82.0    Luca Guadagnino   \n",
       "\n",
       "                                                Cast   Votes  \\\n",
       "0  Anne Hathaway, Nicholas Galitzine, Ella Rubin,...  28,744   \n",
       "1  Owen Teague, Freya Allan, Kevin Durand, Peter ...  22,248   \n",
       "2  Isaac Bae, Jerry Seinfeld, Chris Rickett, Rach...  18,401   \n",
       "3  Ryan Gosling, Emily Blunt, Aaron Taylor-Johnso...  38,953   \n",
       "4  Zendaya, Mike Faist, Josh O'Connor, Darnell Ap...  32,517   \n",
       "\n",
       "                                         Description Review Count  \\\n",
       "0  Solène, a 40-year-old single mom, begins an un...          166   \n",
       "1  Many years after the reign of Caesar, a young ...          183   \n",
       "2  In 1963 Michigan, business rivals Kellogg's an...          333   \n",
       "3  A down-and-out stuntman must find the missing ...          384   \n",
       "4  Tashi, a former tennis prodigy turned coach, t...          194   \n",
       "\n",
       "                             Review Title  \\\n",
       "0                    Hypocrisy as an idea   \n",
       "1  A phenomenal start to another trilogy!   \n",
       "2                               not funny   \n",
       "3         Everything you needed and more!   \n",
       "4             Watch \"Match Point\" instead   \n",
       "\n",
       "                                              Review  \n",
       "0  This film, as well as the reaction to it, is a...  \n",
       "1  I'm a big fan of all the planet of the apes, a...  \n",
       "2  Pretty much the worst criticism you can lay on...  \n",
       "3  Just got out of the Austin premier at SXSW and...  \n",
       "4  This is a tough one. I liked the concept and t...  "
      ]
     },
     "execution_count": 3,
     "metadata": {},
     "output_type": "execute_result"
    }
   ],
   "source": [
    "df.head()\n"
   ]
  },
  {
   "cell_type": "code",
   "execution_count": 4,
   "id": "dee7d439-66d6-4bc0-87b5-92259baad1c8",
   "metadata": {},
   "outputs": [
    {
     "data": {
      "text/html": [
       "<div>\n",
       "<style scoped>\n",
       "    .dataframe tbody tr th:only-of-type {\n",
       "        vertical-align: middle;\n",
       "    }\n",
       "\n",
       "    .dataframe tbody tr th {\n",
       "        vertical-align: top;\n",
       "    }\n",
       "\n",
       "    .dataframe thead th {\n",
       "        text-align: right;\n",
       "    }\n",
       "</style>\n",
       "<table border=\"1\" class=\"dataframe\">\n",
       "  <thead>\n",
       "    <tr style=\"text-align: right;\">\n",
       "      <th></th>\n",
       "      <th>Year</th>\n",
       "      <th>Duration (min)</th>\n",
       "      <th>Rating</th>\n",
       "      <th>Metascore</th>\n",
       "    </tr>\n",
       "  </thead>\n",
       "  <tbody>\n",
       "    <tr>\n",
       "      <th>count</th>\n",
       "      <td>9850.000000</td>\n",
       "      <td>9664.000000</td>\n",
       "      <td>9596.000000</td>\n",
       "      <td>7555.000000</td>\n",
       "    </tr>\n",
       "    <tr>\n",
       "      <th>mean</th>\n",
       "      <td>2005.761421</td>\n",
       "      <td>108.809603</td>\n",
       "      <td>6.438610</td>\n",
       "      <td>58.068299</td>\n",
       "    </tr>\n",
       "    <tr>\n",
       "      <th>std</th>\n",
       "      <td>18.958005</td>\n",
       "      <td>23.159749</td>\n",
       "      <td>1.051412</td>\n",
       "      <td>17.845240</td>\n",
       "    </tr>\n",
       "    <tr>\n",
       "      <th>min</th>\n",
       "      <td>1929.000000</td>\n",
       "      <td>45.000000</td>\n",
       "      <td>1.300000</td>\n",
       "      <td>1.000000</td>\n",
       "    </tr>\n",
       "    <tr>\n",
       "      <th>25%</th>\n",
       "      <td>1997.000000</td>\n",
       "      <td>95.000000</td>\n",
       "      <td>5.800000</td>\n",
       "      <td>45.500000</td>\n",
       "    </tr>\n",
       "    <tr>\n",
       "      <th>50%</th>\n",
       "      <td>2012.000000</td>\n",
       "      <td>105.000000</td>\n",
       "      <td>6.500000</td>\n",
       "      <td>58.000000</td>\n",
       "    </tr>\n",
       "    <tr>\n",
       "      <th>75%</th>\n",
       "      <td>2021.000000</td>\n",
       "      <td>118.000000</td>\n",
       "      <td>7.200000</td>\n",
       "      <td>71.000000</td>\n",
       "    </tr>\n",
       "    <tr>\n",
       "      <th>max</th>\n",
       "      <td>2025.000000</td>\n",
       "      <td>746.000000</td>\n",
       "      <td>9.700000</td>\n",
       "      <td>100.000000</td>\n",
       "    </tr>\n",
       "  </tbody>\n",
       "</table>\n",
       "</div>"
      ],
      "text/plain": [
       "              Year  Duration (min)       Rating    Metascore\n",
       "count  9850.000000     9664.000000  9596.000000  7555.000000\n",
       "mean   2005.761421      108.809603     6.438610    58.068299\n",
       "std      18.958005       23.159749     1.051412    17.845240\n",
       "min    1929.000000       45.000000     1.300000     1.000000\n",
       "25%    1997.000000       95.000000     5.800000    45.500000\n",
       "50%    2012.000000      105.000000     6.500000    58.000000\n",
       "75%    2021.000000      118.000000     7.200000    71.000000\n",
       "max    2025.000000      746.000000     9.700000   100.000000"
      ]
     },
     "execution_count": 4,
     "metadata": {},
     "output_type": "execute_result"
    }
   ],
   "source": [
    "df.describe()\n"
   ]
  },
  {
   "cell_type": "code",
   "execution_count": 5,
   "id": "ccf85134-d60c-417e-a5a9-f3070f5a78cf",
   "metadata": {},
   "outputs": [
    {
     "name": "stdout",
     "output_type": "stream",
     "text": [
      "<class 'pandas.core.frame.DataFrame'>\n",
      "RangeIndex: 10000 entries, 0 to 9999\n",
      "Data columns (total 15 columns):\n",
      " #   Column          Non-Null Count  Dtype  \n",
      "---  ------          --------------  -----  \n",
      " 0   Poster          10000 non-null  object \n",
      " 1   Title           10000 non-null  object \n",
      " 2   Year            9850 non-null   float64\n",
      " 3   Certificate     7370 non-null   object \n",
      " 4   Duration (min)  9664 non-null   float64\n",
      " 5   Genre           9993 non-null   object \n",
      " 6   Rating          9596 non-null   float64\n",
      " 7   Metascore       7555 non-null   float64\n",
      " 8   Director        9995 non-null   object \n",
      " 9   Cast            9961 non-null   object \n",
      " 10  Votes           9596 non-null   object \n",
      " 11  Description     10000 non-null  object \n",
      " 12  Review Count    9999 non-null   object \n",
      " 13  Review Title    9483 non-null   object \n",
      " 14  Review          9484 non-null   object \n",
      "dtypes: float64(4), object(11)\n",
      "memory usage: 1.1+ MB\n"
     ]
    }
   ],
   "source": [
    "df.info()"
   ]
  },
  {
   "cell_type": "code",
   "execution_count": 6,
   "id": "8ddaf880-dad1-41d4-95fa-e68449dd8e2d",
   "metadata": {},
   "outputs": [],
   "source": [
    "#Cleaning the data\n",
    "df.drop('Duration (min)', axis=1, inplace=True)"
   ]
  },
  {
   "cell_type": "code",
   "execution_count": 7,
   "id": "b5a218b2-d53a-4827-9635-bacefd3f6bd4",
   "metadata": {},
   "outputs": [],
   "source": [
    "df.drop('Certificate', axis=1, inplace= True)"
   ]
  },
  {
   "cell_type": "code",
   "execution_count": 8,
   "id": "969cdda3-9078-4897-b1a5-24b18063e64f",
   "metadata": {},
   "outputs": [
    {
     "data": {
      "text/plain": [
       "Poster             0\n",
       "Title              0\n",
       "Year             150\n",
       "Genre              7\n",
       "Rating           404\n",
       "Metascore       2445\n",
       "Director           5\n",
       "Cast              39\n",
       "Votes            404\n",
       "Description        0\n",
       "Review Count       1\n",
       "Review Title     517\n",
       "Review           516\n",
       "dtype: int64"
      ]
     },
     "execution_count": 8,
     "metadata": {},
     "output_type": "execute_result"
    }
   ],
   "source": [
    "df.isnull().sum()"
   ]
  },
  {
   "cell_type": "code",
   "execution_count": 9,
   "id": "9226bcaf-12af-49af-8d0c-f190b6c8ec3f",
   "metadata": {},
   "outputs": [
    {
     "name": "stderr",
     "output_type": "stream",
     "text": [
      "C:\\Users\\PERCY JACKSON\\AppData\\Local\\Temp\\ipykernel_5104\\2918439356.py:1: FutureWarning: A value is trying to be set on a copy of a DataFrame or Series through chained assignment using an inplace method.\n",
      "The behavior will change in pandas 3.0. This inplace method will never work because the intermediate object on which we are setting values always behaves as a copy.\n",
      "\n",
      "For example, when doing 'df[col].method(value, inplace=True)', try using 'df.method({col: value}, inplace=True)' or df[col] = df[col].method(value) instead, to perform the operation inplace on the original object.\n",
      "\n",
      "\n",
      "  df['Year'].fillna(df['Year'].mode()[0], inplace=True)\n"
     ]
    }
   ],
   "source": [
    "df['Year'].fillna(df['Year'].mode()[0], inplace=True)"
   ]
  },
  {
   "cell_type": "code",
   "execution_count": 10,
   "id": "e30b9518-c683-4cae-8da2-ef57bc0957e9",
   "metadata": {},
   "outputs": [],
   "source": [
    "df['Votes'] = pd.to_numeric(df['Votes'], errors='coerce').fillna(0).astype(int)"
   ]
  },
  {
   "cell_type": "code",
   "execution_count": 11,
   "id": "9906dd97-dfd0-4d6e-9dc5-d3b33ad0f03a",
   "metadata": {},
   "outputs": [
    {
     "name": "stderr",
     "output_type": "stream",
     "text": [
      "C:\\Users\\PERCY JACKSON\\AppData\\Local\\Temp\\ipykernel_5104\\2312668991.py:1: FutureWarning: A value is trying to be set on a copy of a DataFrame or Series through chained assignment using an inplace method.\n",
      "The behavior will change in pandas 3.0. This inplace method will never work because the intermediate object on which we are setting values always behaves as a copy.\n",
      "\n",
      "For example, when doing 'df[col].method(value, inplace=True)', try using 'df.method({col: value}, inplace=True)' or df[col] = df[col].method(value) instead, to perform the operation inplace on the original object.\n",
      "\n",
      "\n",
      "  df['Rating'].fillna(df['Rating'].mean(), inplace=True)\n",
      "C:\\Users\\PERCY JACKSON\\AppData\\Local\\Temp\\ipykernel_5104\\2312668991.py:2: FutureWarning: A value is trying to be set on a copy of a DataFrame or Series through chained assignment using an inplace method.\n",
      "The behavior will change in pandas 3.0. This inplace method will never work because the intermediate object on which we are setting values always behaves as a copy.\n",
      "\n",
      "For example, when doing 'df[col].method(value, inplace=True)', try using 'df.method({col: value}, inplace=True)' or df[col] = df[col].method(value) instead, to perform the operation inplace on the original object.\n",
      "\n",
      "\n",
      "  df['Votes'].fillna(df['Votes'].median(), inplace=True)\n"
     ]
    }
   ],
   "source": [
    "df['Rating'].fillna(df['Rating'].mean(), inplace=True)\n",
    "df['Votes'].fillna(df['Votes'].median(), inplace=True)"
   ]
  },
  {
   "cell_type": "code",
   "execution_count": 12,
   "id": "a81fcde0-57f7-426a-9973-20a516a842b8",
   "metadata": {},
   "outputs": [
    {
     "data": {
      "text/plain": [
       "Genre\n",
       "Drama          5304\n",
       "Comedy         3265\n",
       "Action         2468\n",
       "Thriller       1819\n",
       "Adventure      1786\n",
       "Crime          1730\n",
       "Romance        1590\n",
       "Horror         1514\n",
       "Mystery        1078\n",
       "Sci-Fi          792\n",
       "Fantasy         745\n",
       "Biography       654\n",
       "Animation       481\n",
       "Family          471\n",
       "History         333\n",
       "Music           255\n",
       "Sport           203\n",
       "War             201\n",
       "Western         147\n",
       "Documentary     124\n",
       "Musical         124\n",
       "Film-Noir        37\n",
       "Name: count, dtype: int64"
      ]
     },
     "execution_count": 12,
     "metadata": {},
     "output_type": "execute_result"
    }
   ],
   "source": [
    "## Cleaning the data \n",
    "df['Genre'].dropna().str.split(', ').explode().value_counts()"
   ]
  },
  {
   "cell_type": "code",
   "execution_count": 13,
   "id": "185b0ff0-3a46-4183-a9d8-e5b10daa86b7",
   "metadata": {},
   "outputs": [
    {
     "data": {
      "text/plain": [
       "Poster             0\n",
       "Title              0\n",
       "Year               0\n",
       "Genre              7\n",
       "Rating             0\n",
       "Metascore       2445\n",
       "Director           5\n",
       "Cast              39\n",
       "Votes              0\n",
       "Description        0\n",
       "Review Count       1\n",
       "Review Title     517\n",
       "Review           516\n",
       "dtype: int64"
      ]
     },
     "execution_count": 13,
     "metadata": {},
     "output_type": "execute_result"
    }
   ],
   "source": [
    "df.isnull().sum()"
   ]
  },
  {
   "cell_type": "code",
   "execution_count": 14,
   "id": "ae9a6b94-6c92-439e-9b27-ffe0d1001bef",
   "metadata": {},
   "outputs": [
    {
     "name": "stderr",
     "output_type": "stream",
     "text": [
      "C:\\Users\\PERCY JACKSON\\AppData\\Local\\Temp\\ipykernel_5104\\1861280200.py:1: FutureWarning: A value is trying to be set on a copy of a DataFrame or Series through chained assignment using an inplace method.\n",
      "The behavior will change in pandas 3.0. This inplace method will never work because the intermediate object on which we are setting values always behaves as a copy.\n",
      "\n",
      "For example, when doing 'df[col].method(value, inplace=True)', try using 'df.method({col: value}, inplace=True)' or df[col] = df[col].method(value) instead, to perform the operation inplace on the original object.\n",
      "\n",
      "\n",
      "  df['Metascore'].fillna(df['Metascore'].median(), inplace=True)\n"
     ]
    }
   ],
   "source": [
    "df['Metascore'].fillna(df['Metascore'].median(), inplace=True)"
   ]
  },
  {
   "cell_type": "code",
   "execution_count": 15,
   "id": "09058d69-ae03-4d57-b826-57311e59a917",
   "metadata": {},
   "outputs": [
    {
     "name": "stderr",
     "output_type": "stream",
     "text": [
      "C:\\Users\\PERCY JACKSON\\AppData\\Local\\Temp\\ipykernel_5104\\4011818022.py:1: FutureWarning: A value is trying to be set on a copy of a DataFrame or Series through chained assignment using an inplace method.\n",
      "The behavior will change in pandas 3.0. This inplace method will never work because the intermediate object on which we are setting values always behaves as a copy.\n",
      "\n",
      "For example, when doing 'df[col].method(value, inplace=True)', try using 'df.method({col: value}, inplace=True)' or df[col] = df[col].method(value) instead, to perform the operation inplace on the original object.\n",
      "\n",
      "\n",
      "  df['Review Title'].fillna('No Title', inplace=True)\n",
      "C:\\Users\\PERCY JACKSON\\AppData\\Local\\Temp\\ipykernel_5104\\4011818022.py:2: FutureWarning: A value is trying to be set on a copy of a DataFrame or Series through chained assignment using an inplace method.\n",
      "The behavior will change in pandas 3.0. This inplace method will never work because the intermediate object on which we are setting values always behaves as a copy.\n",
      "\n",
      "For example, when doing 'df[col].method(value, inplace=True)', try using 'df.method({col: value}, inplace=True)' or df[col] = df[col].method(value) instead, to perform the operation inplace on the original object.\n",
      "\n",
      "\n",
      "  df['Review'].fillna('No Review', inplace=True)\n",
      "C:\\Users\\PERCY JACKSON\\AppData\\Local\\Temp\\ipykernel_5104\\4011818022.py:3: FutureWarning: A value is trying to be set on a copy of a DataFrame or Series through chained assignment using an inplace method.\n",
      "The behavior will change in pandas 3.0. This inplace method will never work because the intermediate object on which we are setting values always behaves as a copy.\n",
      "\n",
      "For example, when doing 'df[col].method(value, inplace=True)', try using 'df.method({col: value}, inplace=True)' or df[col] = df[col].method(value) instead, to perform the operation inplace on the original object.\n",
      "\n",
      "\n",
      "  df['Review Count'].fillna(0, inplace=True)\n"
     ]
    }
   ],
   "source": [
    "df['Review Title'].fillna('No Title', inplace=True)\n",
    "df['Review'].fillna('No Review', inplace=True)\n",
    "df['Review Count'].fillna(0, inplace=True)"
   ]
  },
  {
   "cell_type": "code",
   "execution_count": 16,
   "id": "35425602-aacc-4dfa-aa95-971893738e54",
   "metadata": {},
   "outputs": [],
   "source": [
    "def infer_genre(description):\n",
    "    if 'love' in description.lower() or 'romantic' in description.lower():\n",
    "        return 'Romance'\n",
    "    elif 'war' in description.lower() or 'battle' in description.lower():\n",
    "        return 'War'\n",
    "    elif 'space' in description.lower() or 'alien' in description.lower():\n",
    "        return 'Sci-Fi'\n",
    "    elif 'murder' in description.lower() or 'crime' in description.lower():\n",
    "        return 'Thriller'\n",
    "    elif 'funny' in description.lower() or 'comedy' in description.lower():\n",
    "        return 'Comedy'\n",
    "    else:\n",
    "        return 'Unknown'\n",
    "\n",
    "df['Genre'] = df['Genre'].fillna(df['Description'].apply(infer_genre))\n"
   ]
  },
  {
   "cell_type": "code",
   "execution_count": 17,
   "id": "0c91652f-50aa-4411-a67a-761699aacb8d",
   "metadata": {},
   "outputs": [],
   "source": [
    "df['Director'] = df['Director'].fillna('Unknown Director')\n",
    "df['Cast'] = df['Cast'].fillna('Unknown Cast')\n"
   ]
  },
  {
   "cell_type": "code",
   "execution_count": 18,
   "id": "3500af52-c5b6-4792-b316-900e0282f531",
   "metadata": {},
   "outputs": [
    {
     "data": {
      "text/plain": [
       "Poster          0\n",
       "Title           0\n",
       "Year            0\n",
       "Genre           0\n",
       "Rating          0\n",
       "Metascore       0\n",
       "Director        0\n",
       "Cast            0\n",
       "Votes           0\n",
       "Description     0\n",
       "Review Count    0\n",
       "Review Title    0\n",
       "Review          0\n",
       "dtype: int64"
      ]
     },
     "execution_count": 18,
     "metadata": {},
     "output_type": "execute_result"
    }
   ],
   "source": [
    "df.isnull().sum()"
   ]
  },
  {
   "cell_type": "code",
   "execution_count": 19,
   "id": "90a88225-d8b0-49ad-a6c1-311f0c18aa1f",
   "metadata": {},
   "outputs": [
    {
     "data": {
      "text/plain": [
       "0"
      ]
     },
     "execution_count": 19,
     "metadata": {},
     "output_type": "execute_result"
    }
   ],
   "source": [
    "df.duplicated().sum()"
   ]
  },
  {
   "cell_type": "code",
   "execution_count": 20,
   "id": "7e250cf5-27e2-4466-b70e-69016336dacc",
   "metadata": {},
   "outputs": [
    {
     "name": "stdout",
     "output_type": "stream",
     "text": [
      "<class 'pandas.core.frame.DataFrame'>\n",
      "RangeIndex: 10000 entries, 0 to 9999\n",
      "Data columns (total 13 columns):\n",
      " #   Column        Non-Null Count  Dtype  \n",
      "---  ------        --------------  -----  \n",
      " 0   Poster        10000 non-null  object \n",
      " 1   Title         10000 non-null  object \n",
      " 2   Year          10000 non-null  float64\n",
      " 3   Genre         10000 non-null  object \n",
      " 4   Rating        10000 non-null  float64\n",
      " 5   Metascore     10000 non-null  float64\n",
      " 6   Director      10000 non-null  object \n",
      " 7   Cast          10000 non-null  object \n",
      " 8   Votes         10000 non-null  int32  \n",
      " 9   Description   10000 non-null  object \n",
      " 10  Review Count  10000 non-null  object \n",
      " 11  Review Title  10000 non-null  object \n",
      " 12  Review        10000 non-null  object \n",
      "dtypes: float64(3), int32(1), object(9)\n",
      "memory usage: 976.7+ KB\n"
     ]
    }
   ],
   "source": [
    "df.info()"
   ]
  },
  {
   "cell_type": "code",
   "execution_count": 21,
   "id": "d706a2a1-7cd0-4645-96be-b656fb584ff5",
   "metadata": {},
   "outputs": [],
   "source": [
    "df['Review Count'] = df['Review Count'].str.replace(',', '', regex=True)\n",
    "df['Review Count']=df['Review Count'].astype(float)"
   ]
  },
  {
   "cell_type": "code",
   "execution_count": 22,
   "id": "e77b4634-e074-46b6-87bc-37aac3fff59b",
   "metadata": {},
   "outputs": [],
   "source": [
    "df['Review']= df['Review'].apply(lambda x: x.split())"
   ]
  },
  {
   "cell_type": "code",
   "execution_count": 23,
   "id": "554737da-57a9-4077-b600-b37474ee8d4b",
   "metadata": {},
   "outputs": [
    {
     "data": {
      "text/plain": [
       "'Hypocrisy as an idea'"
      ]
     },
     "execution_count": 23,
     "metadata": {},
     "output_type": "execute_result"
    }
   ],
   "source": [
    "df['Review Title'][0]"
   ]
  },
  {
   "cell_type": "code",
   "execution_count": 24,
   "id": "d509959e-d631-4b09-b1a2-46b495a21a55",
   "metadata": {},
   "outputs": [],
   "source": [
    "df['Review Title']=df['Review Title'].apply(lambda x: x.split())"
   ]
  },
  {
   "cell_type": "code",
   "execution_count": 25,
   "id": "c5bf7114-b510-4663-8184-ea70ef08da74",
   "metadata": {},
   "outputs": [
    {
     "data": {
      "text/plain": [
       "'Solène, a 40-year-old single mom, begins an unexpected romance with 24-year-old Hayes Campbell, the lead singer of August Moon, the hottest boy band on the planet.'"
      ]
     },
     "execution_count": 25,
     "metadata": {},
     "output_type": "execute_result"
    }
   ],
   "source": [
    "df['Description'][0]"
   ]
  },
  {
   "cell_type": "code",
   "execution_count": 26,
   "id": "56899a26-4e14-45eb-9dff-8606ecfbc135",
   "metadata": {},
   "outputs": [],
   "source": [
    "df['Description']=df['Description'].apply(lambda x: x.split())"
   ]
  },
  {
   "cell_type": "code",
   "execution_count": 27,
   "id": "5069e503-c249-4257-9705-97b4d6c3ffac",
   "metadata": {},
   "outputs": [],
   "source": [
    "df['Genre']=df['Genre'].apply(lambda x: [genre.strip() for genre in x.split(',') if genre.strip() != ''])"
   ]
  },
  {
   "cell_type": "code",
   "execution_count": 28,
   "id": "d67257bb-5dde-4715-a342-f4f64783d3a6",
   "metadata": {},
   "outputs": [],
   "source": [
    "df['Cast']=df['Cast'].apply(lambda x: x.split())"
   ]
  },
  {
   "cell_type": "code",
   "execution_count": 29,
   "id": "a19eba42-989b-4f49-83d7-df420c2d8db7",
   "metadata": {},
   "outputs": [],
   "source": [
    "df['Director']=df['Director'].apply(lambda x: x.split())"
   ]
  },
  {
   "cell_type": "code",
   "execution_count": null,
   "id": "9c19a952-a7bf-46fb-b5f8-67552418341b",
   "metadata": {},
   "outputs": [],
   "source": []
  },
  {
   "cell_type": "code",
   "execution_count": 30,
   "id": "e76c46a0-9b15-4448-9311-225cfedd9235",
   "metadata": {},
   "outputs": [
    {
     "name": "stdout",
     "output_type": "stream",
     "text": [
      "                                         Description  \\\n",
      "0  [Solène,, a, 40-year-old, single, mom,, begins...   \n",
      "1  [Many, years, after, the, reign, of, Caesar,, ...   \n",
      "2  [In, 1963, Michigan,, business, rivals, Kellog...   \n",
      "3  [A, down-and-out, stuntman, must, find, the, m...   \n",
      "4  [Tashi,, a, former, tennis, prodigy, turned, c...   \n",
      "\n",
      "                          Genre  \\\n",
      "0      [Comedy, Drama, Romance]   \n",
      "1   [Action, Adventure, Sci-Fi]   \n",
      "2  [Biography, Comedy, History]   \n",
      "3       [Action, Comedy, Drama]   \n",
      "4       [Drama, Romance, Sport]   \n",
      "\n",
      "                                                Cast              Director  \n",
      "0  [Anne, Hathaway,, Nicholas, Galitzine,, Ella, ...  [Michael, Showalter]  \n",
      "1  [Owen, Teague,, Freya, Allan,, Kevin, Durand,,...           [Wes, Ball]  \n",
      "2  [Isaac, Bae,, Jerry, Seinfeld,, Chris, Rickett...     [Jerry, Seinfeld]  \n",
      "3  [Ryan, Gosling,, Emily, Blunt,, Aaron, Taylor-...       [David, Leitch]  \n",
      "4  [Zendaya,, Mike, Faist,, Josh, O'Connor,, Darn...    [Luca, Guadagnino]  \n"
     ]
    }
   ],
   "source": [
    "print(df[['Description', 'Genre', 'Cast', 'Director']].head())"
   ]
  },
  {
   "cell_type": "code",
   "execution_count": 31,
   "id": "eaeda638-2eec-455c-99cf-dcc85c626e2e",
   "metadata": {},
   "outputs": [],
   "source": [
    "# create a new column with all the features.\n",
    "df['tags']= df['Description']+df['Genre']+df['Cast']+df['Director']"
   ]
  },
  {
   "cell_type": "code",
   "execution_count": 32,
   "id": "03e57482-6ec8-412d-a868-540927c79307",
   "metadata": {},
   "outputs": [
    {
     "data": {
      "text/html": [
       "<div>\n",
       "<style scoped>\n",
       "    .dataframe tbody tr th:only-of-type {\n",
       "        vertical-align: middle;\n",
       "    }\n",
       "\n",
       "    .dataframe tbody tr th {\n",
       "        vertical-align: top;\n",
       "    }\n",
       "\n",
       "    .dataframe thead th {\n",
       "        text-align: right;\n",
       "    }\n",
       "</style>\n",
       "<table border=\"1\" class=\"dataframe\">\n",
       "  <thead>\n",
       "    <tr style=\"text-align: right;\">\n",
       "      <th></th>\n",
       "      <th>Poster</th>\n",
       "      <th>Title</th>\n",
       "      <th>Year</th>\n",
       "      <th>Genre</th>\n",
       "      <th>Rating</th>\n",
       "      <th>Metascore</th>\n",
       "      <th>Director</th>\n",
       "      <th>Cast</th>\n",
       "      <th>Votes</th>\n",
       "      <th>Description</th>\n",
       "      <th>Review Count</th>\n",
       "      <th>Review Title</th>\n",
       "      <th>Review</th>\n",
       "      <th>tags</th>\n",
       "    </tr>\n",
       "  </thead>\n",
       "  <tbody>\n",
       "    <tr>\n",
       "      <th>0</th>\n",
       "      <td>https://m.media-amazon.com/images/M/MV5BYWRkZj...</td>\n",
       "      <td>The Idea of You</td>\n",
       "      <td>2023.0</td>\n",
       "      <td>[Comedy, Drama, Romance]</td>\n",
       "      <td>6.4</td>\n",
       "      <td>67.0</td>\n",
       "      <td>[Michael, Showalter]</td>\n",
       "      <td>[Anne, Hathaway,, Nicholas, Galitzine,, Ella, ...</td>\n",
       "      <td>0</td>\n",
       "      <td>[Solène,, a, 40-year-old, single, mom,, begins...</td>\n",
       "      <td>166.0</td>\n",
       "      <td>[Hypocrisy, as, an, idea]</td>\n",
       "      <td>[This, film,, as, well, as, the, reaction, to,...</td>\n",
       "      <td>[Solène,, a, 40-year-old, single, mom,, begins...</td>\n",
       "    </tr>\n",
       "    <tr>\n",
       "      <th>1</th>\n",
       "      <td>https://m.media-amazon.com/images/M/MV5BZGI4NT...</td>\n",
       "      <td>Kingdom of the Planet of the Apes</td>\n",
       "      <td>2023.0</td>\n",
       "      <td>[Action, Adventure, Sci-Fi]</td>\n",
       "      <td>7.3</td>\n",
       "      <td>66.0</td>\n",
       "      <td>[Wes, Ball]</td>\n",
       "      <td>[Owen, Teague,, Freya, Allan,, Kevin, Durand,,...</td>\n",
       "      <td>0</td>\n",
       "      <td>[Many, years, after, the, reign, of, Caesar,, ...</td>\n",
       "      <td>183.0</td>\n",
       "      <td>[A, phenomenal, start, to, another, trilogy!]</td>\n",
       "      <td>[I'm, a, big, fan, of, all, the, planet, of, t...</td>\n",
       "      <td>[Many, years, after, the, reign, of, Caesar,, ...</td>\n",
       "    </tr>\n",
       "    <tr>\n",
       "      <th>2</th>\n",
       "      <td>https://m.media-amazon.com/images/M/MV5BZjIyOT...</td>\n",
       "      <td>Unfrosted</td>\n",
       "      <td>2023.0</td>\n",
       "      <td>[Biography, Comedy, History]</td>\n",
       "      <td>5.5</td>\n",
       "      <td>42.0</td>\n",
       "      <td>[Jerry, Seinfeld]</td>\n",
       "      <td>[Isaac, Bae,, Jerry, Seinfeld,, Chris, Rickett...</td>\n",
       "      <td>0</td>\n",
       "      <td>[In, 1963, Michigan,, business, rivals, Kellog...</td>\n",
       "      <td>333.0</td>\n",
       "      <td>[not, funny]</td>\n",
       "      <td>[Pretty, much, the, worst, criticism, you, can...</td>\n",
       "      <td>[In, 1963, Michigan,, business, rivals, Kellog...</td>\n",
       "    </tr>\n",
       "    <tr>\n",
       "      <th>3</th>\n",
       "      <td>https://m.media-amazon.com/images/M/MV5BMjA5Zj...</td>\n",
       "      <td>The Fall Guy</td>\n",
       "      <td>2023.0</td>\n",
       "      <td>[Action, Comedy, Drama]</td>\n",
       "      <td>7.3</td>\n",
       "      <td>73.0</td>\n",
       "      <td>[David, Leitch]</td>\n",
       "      <td>[Ryan, Gosling,, Emily, Blunt,, Aaron, Taylor-...</td>\n",
       "      <td>0</td>\n",
       "      <td>[A, down-and-out, stuntman, must, find, the, m...</td>\n",
       "      <td>384.0</td>\n",
       "      <td>[Everything, you, needed, and, more!]</td>\n",
       "      <td>[Just, got, out, of, the, Austin, premier, at,...</td>\n",
       "      <td>[A, down-and-out, stuntman, must, find, the, m...</td>\n",
       "    </tr>\n",
       "    <tr>\n",
       "      <th>4</th>\n",
       "      <td>https://m.media-amazon.com/images/M/MV5BNTk1MT...</td>\n",
       "      <td>Challengers</td>\n",
       "      <td>2023.0</td>\n",
       "      <td>[Drama, Romance, Sport]</td>\n",
       "      <td>7.7</td>\n",
       "      <td>82.0</td>\n",
       "      <td>[Luca, Guadagnino]</td>\n",
       "      <td>[Zendaya,, Mike, Faist,, Josh, O'Connor,, Darn...</td>\n",
       "      <td>0</td>\n",
       "      <td>[Tashi,, a, former, tennis, prodigy, turned, c...</td>\n",
       "      <td>194.0</td>\n",
       "      <td>[Watch, \"Match, Point\", instead]</td>\n",
       "      <td>[This, is, a, tough, one., I, liked, the, conc...</td>\n",
       "      <td>[Tashi,, a, former, tennis, prodigy, turned, c...</td>\n",
       "    </tr>\n",
       "  </tbody>\n",
       "</table>\n",
       "</div>"
      ],
      "text/plain": [
       "                                              Poster  \\\n",
       "0  https://m.media-amazon.com/images/M/MV5BYWRkZj...   \n",
       "1  https://m.media-amazon.com/images/M/MV5BZGI4NT...   \n",
       "2  https://m.media-amazon.com/images/M/MV5BZjIyOT...   \n",
       "3  https://m.media-amazon.com/images/M/MV5BMjA5Zj...   \n",
       "4  https://m.media-amazon.com/images/M/MV5BNTk1MT...   \n",
       "\n",
       "                               Title    Year                         Genre  \\\n",
       "0                    The Idea of You  2023.0      [Comedy, Drama, Romance]   \n",
       "1  Kingdom of the Planet of the Apes  2023.0   [Action, Adventure, Sci-Fi]   \n",
       "2                          Unfrosted  2023.0  [Biography, Comedy, History]   \n",
       "3                       The Fall Guy  2023.0       [Action, Comedy, Drama]   \n",
       "4                        Challengers  2023.0       [Drama, Romance, Sport]   \n",
       "\n",
       "   Rating  Metascore              Director  \\\n",
       "0     6.4       67.0  [Michael, Showalter]   \n",
       "1     7.3       66.0           [Wes, Ball]   \n",
       "2     5.5       42.0     [Jerry, Seinfeld]   \n",
       "3     7.3       73.0       [David, Leitch]   \n",
       "4     7.7       82.0    [Luca, Guadagnino]   \n",
       "\n",
       "                                                Cast  Votes  \\\n",
       "0  [Anne, Hathaway,, Nicholas, Galitzine,, Ella, ...      0   \n",
       "1  [Owen, Teague,, Freya, Allan,, Kevin, Durand,,...      0   \n",
       "2  [Isaac, Bae,, Jerry, Seinfeld,, Chris, Rickett...      0   \n",
       "3  [Ryan, Gosling,, Emily, Blunt,, Aaron, Taylor-...      0   \n",
       "4  [Zendaya,, Mike, Faist,, Josh, O'Connor,, Darn...      0   \n",
       "\n",
       "                                         Description  Review Count  \\\n",
       "0  [Solène,, a, 40-year-old, single, mom,, begins...         166.0   \n",
       "1  [Many, years, after, the, reign, of, Caesar,, ...         183.0   \n",
       "2  [In, 1963, Michigan,, business, rivals, Kellog...         333.0   \n",
       "3  [A, down-and-out, stuntman, must, find, the, m...         384.0   \n",
       "4  [Tashi,, a, former, tennis, prodigy, turned, c...         194.0   \n",
       "\n",
       "                                    Review Title  \\\n",
       "0                      [Hypocrisy, as, an, idea]   \n",
       "1  [A, phenomenal, start, to, another, trilogy!]   \n",
       "2                                   [not, funny]   \n",
       "3          [Everything, you, needed, and, more!]   \n",
       "4               [Watch, \"Match, Point\", instead]   \n",
       "\n",
       "                                              Review  \\\n",
       "0  [This, film,, as, well, as, the, reaction, to,...   \n",
       "1  [I'm, a, big, fan, of, all, the, planet, of, t...   \n",
       "2  [Pretty, much, the, worst, criticism, you, can...   \n",
       "3  [Just, got, out, of, the, Austin, premier, at,...   \n",
       "4  [This, is, a, tough, one., I, liked, the, conc...   \n",
       "\n",
       "                                                tags  \n",
       "0  [Solène,, a, 40-year-old, single, mom,, begins...  \n",
       "1  [Many, years, after, the, reign, of, Caesar,, ...  \n",
       "2  [In, 1963, Michigan,, business, rivals, Kellog...  \n",
       "3  [A, down-and-out, stuntman, must, find, the, m...  \n",
       "4  [Tashi,, a, former, tennis, prodigy, turned, c...  "
      ]
     },
     "execution_count": 32,
     "metadata": {},
     "output_type": "execute_result"
    }
   ],
   "source": [
    "df.head()"
   ]
  },
  {
   "cell_type": "code",
   "execution_count": 33,
   "id": "c4b8709a-fea9-437b-9b6c-a1d8a5a72779",
   "metadata": {},
   "outputs": [
    {
     "data": {
      "text/plain": [
       "'https://m.media-amazon.com/images/M/MV5BYWRkZjJiODEtM2IwZi00ZjM1LWEyOTUtOThjMDk3YThjZDUzXkEyXkFqcGdeQXVyMTUzMTg2ODkz._V1_UY209_CR0,0,140,209_AL_.jpg'"
      ]
     },
     "execution_count": 33,
     "metadata": {},
     "output_type": "execute_result"
    }
   ],
   "source": [
    "df['Poster'][0]"
   ]
  },
  {
   "cell_type": "code",
   "execution_count": 34,
   "id": "bb192869-e7b9-4d95-85de-55d81a2364b4",
   "metadata": {},
   "outputs": [],
   "source": [
    "# do the same with review\n",
    "df['Review_tags']= df['Review']+df['Review Title']"
   ]
  },
  {
   "cell_type": "code",
   "execution_count": 35,
   "id": "d826d0cf-29f3-4054-8087-30e4c4758176",
   "metadata": {},
   "outputs": [],
   "source": [
    "new_df= df[['Title','Rating','Metascore', 'Year','Review_tags','tags','Poster']]"
   ]
  },
  {
   "cell_type": "code",
   "execution_count": 36,
   "id": "b4addca3-483f-421f-828f-15f980abbc42",
   "metadata": {},
   "outputs": [
    {
     "data": {
      "text/html": [
       "<div>\n",
       "<style scoped>\n",
       "    .dataframe tbody tr th:only-of-type {\n",
       "        vertical-align: middle;\n",
       "    }\n",
       "\n",
       "    .dataframe tbody tr th {\n",
       "        vertical-align: top;\n",
       "    }\n",
       "\n",
       "    .dataframe thead th {\n",
       "        text-align: right;\n",
       "    }\n",
       "</style>\n",
       "<table border=\"1\" class=\"dataframe\">\n",
       "  <thead>\n",
       "    <tr style=\"text-align: right;\">\n",
       "      <th></th>\n",
       "      <th>Title</th>\n",
       "      <th>Rating</th>\n",
       "      <th>Metascore</th>\n",
       "      <th>Year</th>\n",
       "      <th>Review_tags</th>\n",
       "      <th>tags</th>\n",
       "      <th>Poster</th>\n",
       "    </tr>\n",
       "  </thead>\n",
       "  <tbody>\n",
       "    <tr>\n",
       "      <th>0</th>\n",
       "      <td>The Idea of You</td>\n",
       "      <td>6.4</td>\n",
       "      <td>67.0</td>\n",
       "      <td>2023.0</td>\n",
       "      <td>[This, film,, as, well, as, the, reaction, to,...</td>\n",
       "      <td>[Solène,, a, 40-year-old, single, mom,, begins...</td>\n",
       "      <td>https://m.media-amazon.com/images/M/MV5BYWRkZj...</td>\n",
       "    </tr>\n",
       "    <tr>\n",
       "      <th>1</th>\n",
       "      <td>Kingdom of the Planet of the Apes</td>\n",
       "      <td>7.3</td>\n",
       "      <td>66.0</td>\n",
       "      <td>2023.0</td>\n",
       "      <td>[I'm, a, big, fan, of, all, the, planet, of, t...</td>\n",
       "      <td>[Many, years, after, the, reign, of, Caesar,, ...</td>\n",
       "      <td>https://m.media-amazon.com/images/M/MV5BZGI4NT...</td>\n",
       "    </tr>\n",
       "    <tr>\n",
       "      <th>2</th>\n",
       "      <td>Unfrosted</td>\n",
       "      <td>5.5</td>\n",
       "      <td>42.0</td>\n",
       "      <td>2023.0</td>\n",
       "      <td>[Pretty, much, the, worst, criticism, you, can...</td>\n",
       "      <td>[In, 1963, Michigan,, business, rivals, Kellog...</td>\n",
       "      <td>https://m.media-amazon.com/images/M/MV5BZjIyOT...</td>\n",
       "    </tr>\n",
       "    <tr>\n",
       "      <th>3</th>\n",
       "      <td>The Fall Guy</td>\n",
       "      <td>7.3</td>\n",
       "      <td>73.0</td>\n",
       "      <td>2023.0</td>\n",
       "      <td>[Just, got, out, of, the, Austin, premier, at,...</td>\n",
       "      <td>[A, down-and-out, stuntman, must, find, the, m...</td>\n",
       "      <td>https://m.media-amazon.com/images/M/MV5BMjA5Zj...</td>\n",
       "    </tr>\n",
       "    <tr>\n",
       "      <th>4</th>\n",
       "      <td>Challengers</td>\n",
       "      <td>7.7</td>\n",
       "      <td>82.0</td>\n",
       "      <td>2023.0</td>\n",
       "      <td>[This, is, a, tough, one., I, liked, the, conc...</td>\n",
       "      <td>[Tashi,, a, former, tennis, prodigy, turned, c...</td>\n",
       "      <td>https://m.media-amazon.com/images/M/MV5BNTk1MT...</td>\n",
       "    </tr>\n",
       "  </tbody>\n",
       "</table>\n",
       "</div>"
      ],
      "text/plain": [
       "                               Title  Rating  Metascore    Year  \\\n",
       "0                    The Idea of You     6.4       67.0  2023.0   \n",
       "1  Kingdom of the Planet of the Apes     7.3       66.0  2023.0   \n",
       "2                          Unfrosted     5.5       42.0  2023.0   \n",
       "3                       The Fall Guy     7.3       73.0  2023.0   \n",
       "4                        Challengers     7.7       82.0  2023.0   \n",
       "\n",
       "                                         Review_tags  \\\n",
       "0  [This, film,, as, well, as, the, reaction, to,...   \n",
       "1  [I'm, a, big, fan, of, all, the, planet, of, t...   \n",
       "2  [Pretty, much, the, worst, criticism, you, can...   \n",
       "3  [Just, got, out, of, the, Austin, premier, at,...   \n",
       "4  [This, is, a, tough, one., I, liked, the, conc...   \n",
       "\n",
       "                                                tags  \\\n",
       "0  [Solène,, a, 40-year-old, single, mom,, begins...   \n",
       "1  [Many, years, after, the, reign, of, Caesar,, ...   \n",
       "2  [In, 1963, Michigan,, business, rivals, Kellog...   \n",
       "3  [A, down-and-out, stuntman, must, find, the, m...   \n",
       "4  [Tashi,, a, former, tennis, prodigy, turned, c...   \n",
       "\n",
       "                                              Poster  \n",
       "0  https://m.media-amazon.com/images/M/MV5BYWRkZj...  \n",
       "1  https://m.media-amazon.com/images/M/MV5BZGI4NT...  \n",
       "2  https://m.media-amazon.com/images/M/MV5BZjIyOT...  \n",
       "3  https://m.media-amazon.com/images/M/MV5BMjA5Zj...  \n",
       "4  https://m.media-amazon.com/images/M/MV5BNTk1MT...  "
      ]
     },
     "execution_count": 36,
     "metadata": {},
     "output_type": "execute_result"
    }
   ],
   "source": [
    "new_df.head()"
   ]
  },
  {
   "cell_type": "code",
   "execution_count": 37,
   "id": "316a81af-cfbf-42b2-bd0b-b45d7a155204",
   "metadata": {},
   "outputs": [
    {
     "name": "stderr",
     "output_type": "stream",
     "text": [
      "C:\\Users\\PERCY JACKSON\\AppData\\Local\\Temp\\ipykernel_5104\\487797088.py:1: SettingWithCopyWarning: \n",
      "A value is trying to be set on a copy of a slice from a DataFrame.\n",
      "Try using .loc[row_indexer,col_indexer] = value instead\n",
      "\n",
      "See the caveats in the documentation: https://pandas.pydata.org/pandas-docs/stable/user_guide/indexing.html#returning-a-view-versus-a-copy\n",
      "  new_df['tags']=new_df['tags'].apply(lambda x:\" \".join(x))\n"
     ]
    }
   ],
   "source": [
    "new_df['tags']=new_df['tags'].apply(lambda x:\" \".join(x))"
   ]
  },
  {
   "cell_type": "code",
   "execution_count": 38,
   "id": "d3ba4ad2-2804-4c4c-967c-6856324b03ea",
   "metadata": {},
   "outputs": [
    {
     "name": "stderr",
     "output_type": "stream",
     "text": [
      "C:\\Users\\PERCY JACKSON\\AppData\\Local\\Temp\\ipykernel_5104\\4120862496.py:1: SettingWithCopyWarning: \n",
      "A value is trying to be set on a copy of a slice from a DataFrame.\n",
      "Try using .loc[row_indexer,col_indexer] = value instead\n",
      "\n",
      "See the caveats in the documentation: https://pandas.pydata.org/pandas-docs/stable/user_guide/indexing.html#returning-a-view-versus-a-copy\n",
      "  new_df['Review_tags']= new_df['Review_tags'].apply(lambda x:\" \".join(x))\n"
     ]
    }
   ],
   "source": [
    "new_df['Review_tags']= new_df['Review_tags'].apply(lambda x:\" \".join(x))"
   ]
  },
  {
   "cell_type": "code",
   "execution_count": 39,
   "id": "64d323e6-d49b-4e82-8f8c-199152438666",
   "metadata": {},
   "outputs": [
    {
     "data": {
      "text/html": [
       "<div>\n",
       "<style scoped>\n",
       "    .dataframe tbody tr th:only-of-type {\n",
       "        vertical-align: middle;\n",
       "    }\n",
       "\n",
       "    .dataframe tbody tr th {\n",
       "        vertical-align: top;\n",
       "    }\n",
       "\n",
       "    .dataframe thead th {\n",
       "        text-align: right;\n",
       "    }\n",
       "</style>\n",
       "<table border=\"1\" class=\"dataframe\">\n",
       "  <thead>\n",
       "    <tr style=\"text-align: right;\">\n",
       "      <th></th>\n",
       "      <th>Title</th>\n",
       "      <th>Rating</th>\n",
       "      <th>Metascore</th>\n",
       "      <th>Year</th>\n",
       "      <th>Review_tags</th>\n",
       "      <th>tags</th>\n",
       "      <th>Poster</th>\n",
       "    </tr>\n",
       "  </thead>\n",
       "  <tbody>\n",
       "    <tr>\n",
       "      <th>0</th>\n",
       "      <td>The Idea of You</td>\n",
       "      <td>6.4</td>\n",
       "      <td>67.0</td>\n",
       "      <td>2023.0</td>\n",
       "      <td>This film, as well as the reaction to it, is a...</td>\n",
       "      <td>Solène, a 40-year-old single mom, begins an un...</td>\n",
       "      <td>https://m.media-amazon.com/images/M/MV5BYWRkZj...</td>\n",
       "    </tr>\n",
       "    <tr>\n",
       "      <th>1</th>\n",
       "      <td>Kingdom of the Planet of the Apes</td>\n",
       "      <td>7.3</td>\n",
       "      <td>66.0</td>\n",
       "      <td>2023.0</td>\n",
       "      <td>I'm a big fan of all the planet of the apes, a...</td>\n",
       "      <td>Many years after the reign of Caesar, a young ...</td>\n",
       "      <td>https://m.media-amazon.com/images/M/MV5BZGI4NT...</td>\n",
       "    </tr>\n",
       "    <tr>\n",
       "      <th>2</th>\n",
       "      <td>Unfrosted</td>\n",
       "      <td>5.5</td>\n",
       "      <td>42.0</td>\n",
       "      <td>2023.0</td>\n",
       "      <td>Pretty much the worst criticism you can lay on...</td>\n",
       "      <td>In 1963 Michigan, business rivals Kellogg's an...</td>\n",
       "      <td>https://m.media-amazon.com/images/M/MV5BZjIyOT...</td>\n",
       "    </tr>\n",
       "    <tr>\n",
       "      <th>3</th>\n",
       "      <td>The Fall Guy</td>\n",
       "      <td>7.3</td>\n",
       "      <td>73.0</td>\n",
       "      <td>2023.0</td>\n",
       "      <td>Just got out of the Austin premier at SXSW and...</td>\n",
       "      <td>A down-and-out stuntman must find the missing ...</td>\n",
       "      <td>https://m.media-amazon.com/images/M/MV5BMjA5Zj...</td>\n",
       "    </tr>\n",
       "    <tr>\n",
       "      <th>4</th>\n",
       "      <td>Challengers</td>\n",
       "      <td>7.7</td>\n",
       "      <td>82.0</td>\n",
       "      <td>2023.0</td>\n",
       "      <td>This is a tough one. I liked the concept and t...</td>\n",
       "      <td>Tashi, a former tennis prodigy turned coach, t...</td>\n",
       "      <td>https://m.media-amazon.com/images/M/MV5BNTk1MT...</td>\n",
       "    </tr>\n",
       "  </tbody>\n",
       "</table>\n",
       "</div>"
      ],
      "text/plain": [
       "                               Title  Rating  Metascore    Year  \\\n",
       "0                    The Idea of You     6.4       67.0  2023.0   \n",
       "1  Kingdom of the Planet of the Apes     7.3       66.0  2023.0   \n",
       "2                          Unfrosted     5.5       42.0  2023.0   \n",
       "3                       The Fall Guy     7.3       73.0  2023.0   \n",
       "4                        Challengers     7.7       82.0  2023.0   \n",
       "\n",
       "                                         Review_tags  \\\n",
       "0  This film, as well as the reaction to it, is a...   \n",
       "1  I'm a big fan of all the planet of the apes, a...   \n",
       "2  Pretty much the worst criticism you can lay on...   \n",
       "3  Just got out of the Austin premier at SXSW and...   \n",
       "4  This is a tough one. I liked the concept and t...   \n",
       "\n",
       "                                                tags  \\\n",
       "0  Solène, a 40-year-old single mom, begins an un...   \n",
       "1  Many years after the reign of Caesar, a young ...   \n",
       "2  In 1963 Michigan, business rivals Kellogg's an...   \n",
       "3  A down-and-out stuntman must find the missing ...   \n",
       "4  Tashi, a former tennis prodigy turned coach, t...   \n",
       "\n",
       "                                              Poster  \n",
       "0  https://m.media-amazon.com/images/M/MV5BYWRkZj...  \n",
       "1  https://m.media-amazon.com/images/M/MV5BZGI4NT...  \n",
       "2  https://m.media-amazon.com/images/M/MV5BZjIyOT...  \n",
       "3  https://m.media-amazon.com/images/M/MV5BMjA5Zj...  \n",
       "4  https://m.media-amazon.com/images/M/MV5BNTk1MT...  "
      ]
     },
     "execution_count": 39,
     "metadata": {},
     "output_type": "execute_result"
    }
   ],
   "source": [
    "new_df.head()\n"
   ]
  },
  {
   "cell_type": "code",
   "execution_count": 40,
   "id": "d88f5340-0517-4e44-84ad-1427a6566a3c",
   "metadata": {},
   "outputs": [
    {
     "name": "stderr",
     "output_type": "stream",
     "text": [
      "C:\\Users\\PERCY JACKSON\\AppData\\Local\\Temp\\ipykernel_5104\\2915036491.py:1: SettingWithCopyWarning: \n",
      "A value is trying to be set on a copy of a slice from a DataFrame.\n",
      "Try using .loc[row_indexer,col_indexer] = value instead\n",
      "\n",
      "See the caveats in the documentation: https://pandas.pydata.org/pandas-docs/stable/user_guide/indexing.html#returning-a-view-versus-a-copy\n",
      "  new_df['tags']=new_df['tags'].apply(lambda x: x.lower())\n",
      "C:\\Users\\PERCY JACKSON\\AppData\\Local\\Temp\\ipykernel_5104\\2915036491.py:2: SettingWithCopyWarning: \n",
      "A value is trying to be set on a copy of a slice from a DataFrame.\n",
      "Try using .loc[row_indexer,col_indexer] = value instead\n",
      "\n",
      "See the caveats in the documentation: https://pandas.pydata.org/pandas-docs/stable/user_guide/indexing.html#returning-a-view-versus-a-copy\n",
      "  new_df['Review_tags']=new_df['Review_tags'].apply(lambda x: x.lower())\n"
     ]
    }
   ],
   "source": [
    "new_df['tags']=new_df['tags'].apply(lambda x: x.lower())\n",
    "new_df['Review_tags']=new_df['Review_tags'].apply(lambda x: x.lower())"
   ]
  },
  {
   "cell_type": "code",
   "execution_count": 42,
   "id": "dbfb0413-a236-47cf-bc94-63f2dc428ec5",
   "metadata": {},
   "outputs": [
    {
     "data": {
      "text/html": [
       "<div>\n",
       "<style scoped>\n",
       "    .dataframe tbody tr th:only-of-type {\n",
       "        vertical-align: middle;\n",
       "    }\n",
       "\n",
       "    .dataframe tbody tr th {\n",
       "        vertical-align: top;\n",
       "    }\n",
       "\n",
       "    .dataframe thead th {\n",
       "        text-align: right;\n",
       "    }\n",
       "</style>\n",
       "<table border=\"1\" class=\"dataframe\">\n",
       "  <thead>\n",
       "    <tr style=\"text-align: right;\">\n",
       "      <th></th>\n",
       "      <th>Title</th>\n",
       "      <th>Rating</th>\n",
       "      <th>Metascore</th>\n",
       "      <th>Year</th>\n",
       "      <th>Review_tags</th>\n",
       "      <th>tags</th>\n",
       "      <th>Poster</th>\n",
       "    </tr>\n",
       "  </thead>\n",
       "  <tbody>\n",
       "    <tr>\n",
       "      <th>0</th>\n",
       "      <td>The Idea of You</td>\n",
       "      <td>6.4</td>\n",
       "      <td>67.0</td>\n",
       "      <td>2023.0</td>\n",
       "      <td>this film, as well as the reaction to it, is a...</td>\n",
       "      <td>solène, a 40-year-old single mom, begins an un...</td>\n",
       "      <td>https://m.media-amazon.com/images/M/MV5BYWRkZj...</td>\n",
       "    </tr>\n",
       "    <tr>\n",
       "      <th>1</th>\n",
       "      <td>Kingdom of the Planet of the Apes</td>\n",
       "      <td>7.3</td>\n",
       "      <td>66.0</td>\n",
       "      <td>2023.0</td>\n",
       "      <td>i'm a big fan of all the planet of the apes, a...</td>\n",
       "      <td>many years after the reign of caesar, a young ...</td>\n",
       "      <td>https://m.media-amazon.com/images/M/MV5BZGI4NT...</td>\n",
       "    </tr>\n",
       "    <tr>\n",
       "      <th>2</th>\n",
       "      <td>Unfrosted</td>\n",
       "      <td>5.5</td>\n",
       "      <td>42.0</td>\n",
       "      <td>2023.0</td>\n",
       "      <td>pretty much the worst criticism you can lay on...</td>\n",
       "      <td>in 1963 michigan, business rivals kellogg's an...</td>\n",
       "      <td>https://m.media-amazon.com/images/M/MV5BZjIyOT...</td>\n",
       "    </tr>\n",
       "    <tr>\n",
       "      <th>3</th>\n",
       "      <td>The Fall Guy</td>\n",
       "      <td>7.3</td>\n",
       "      <td>73.0</td>\n",
       "      <td>2023.0</td>\n",
       "      <td>just got out of the austin premier at sxsw and...</td>\n",
       "      <td>a down-and-out stuntman must find the missing ...</td>\n",
       "      <td>https://m.media-amazon.com/images/M/MV5BMjA5Zj...</td>\n",
       "    </tr>\n",
       "    <tr>\n",
       "      <th>4</th>\n",
       "      <td>Challengers</td>\n",
       "      <td>7.7</td>\n",
       "      <td>82.0</td>\n",
       "      <td>2023.0</td>\n",
       "      <td>this is a tough one. i liked the concept and t...</td>\n",
       "      <td>tashi, a former tennis prodigy turned coach, t...</td>\n",
       "      <td>https://m.media-amazon.com/images/M/MV5BNTk1MT...</td>\n",
       "    </tr>\n",
       "  </tbody>\n",
       "</table>\n",
       "</div>"
      ],
      "text/plain": [
       "                               Title  Rating  Metascore    Year  \\\n",
       "0                    The Idea of You     6.4       67.0  2023.0   \n",
       "1  Kingdom of the Planet of the Apes     7.3       66.0  2023.0   \n",
       "2                          Unfrosted     5.5       42.0  2023.0   \n",
       "3                       The Fall Guy     7.3       73.0  2023.0   \n",
       "4                        Challengers     7.7       82.0  2023.0   \n",
       "\n",
       "                                         Review_tags  \\\n",
       "0  this film, as well as the reaction to it, is a...   \n",
       "1  i'm a big fan of all the planet of the apes, a...   \n",
       "2  pretty much the worst criticism you can lay on...   \n",
       "3  just got out of the austin premier at sxsw and...   \n",
       "4  this is a tough one. i liked the concept and t...   \n",
       "\n",
       "                                                tags  \\\n",
       "0  solène, a 40-year-old single mom, begins an un...   \n",
       "1  many years after the reign of caesar, a young ...   \n",
       "2  in 1963 michigan, business rivals kellogg's an...   \n",
       "3  a down-and-out stuntman must find the missing ...   \n",
       "4  tashi, a former tennis prodigy turned coach, t...   \n",
       "\n",
       "                                              Poster  \n",
       "0  https://m.media-amazon.com/images/M/MV5BYWRkZj...  \n",
       "1  https://m.media-amazon.com/images/M/MV5BZGI4NT...  \n",
       "2  https://m.media-amazon.com/images/M/MV5BZjIyOT...  \n",
       "3  https://m.media-amazon.com/images/M/MV5BMjA5Zj...  \n",
       "4  https://m.media-amazon.com/images/M/MV5BNTk1MT...  "
      ]
     },
     "execution_count": 42,
     "metadata": {},
     "output_type": "execute_result"
    }
   ],
   "source": [
    "new_df.head()"
   ]
  },
  {
   "cell_type": "markdown",
   "id": "5c3b3d0a-a315-47de-9460-0691dc69ad3f",
   "metadata": {},
   "source": [
    "NATURAL LANGUAGE PROCESSING "
   ]
  },
  {
   "cell_type": "code",
   "execution_count": 43,
   "id": "f1825846-f573-4735-8a63-329950a6ee85",
   "metadata": {},
   "outputs": [],
   "source": [
    "import nltk "
   ]
  },
  {
   "cell_type": "code",
   "execution_count": 44,
   "id": "fbcdc175-db4b-426e-92c5-fad026927c62",
   "metadata": {},
   "outputs": [],
   "source": [
    "from nltk.stem.porter import PorterStemmer\n",
    "ps= PorterStemmer()"
   ]
  },
  {
   "cell_type": "code",
   "execution_count": 45,
   "id": "f34b6194-a6e8-4aa4-af42-9372ab07fa10",
   "metadata": {},
   "outputs": [],
   "source": [
    "def stem (text):\n",
    "    y=[]\n",
    "    for i in text.split():\n",
    "        y.append(ps.stem(i))\n",
    "    return \" \".join(y)"
   ]
  },
  {
   "cell_type": "code",
   "execution_count": 46,
   "id": "4d22c9a5-9d3b-45e3-aecc-929800cded2f",
   "metadata": {},
   "outputs": [
    {
     "name": "stderr",
     "output_type": "stream",
     "text": [
      "C:\\Users\\PERCY JACKSON\\AppData\\Local\\Temp\\ipykernel_5104\\3514595201.py:1: SettingWithCopyWarning: \n",
      "A value is trying to be set on a copy of a slice from a DataFrame.\n",
      "Try using .loc[row_indexer,col_indexer] = value instead\n",
      "\n",
      "See the caveats in the documentation: https://pandas.pydata.org/pandas-docs/stable/user_guide/indexing.html#returning-a-view-versus-a-copy\n",
      "  new_df['tags']=new_df['tags'].apply(stem)\n"
     ]
    }
   ],
   "source": [
    "new_df['tags']=new_df['tags'].apply(stem)"
   ]
  },
  {
   "cell_type": "code",
   "execution_count": 47,
   "id": "7c40d441-2b00-4c5e-a220-141c02f4781f",
   "metadata": {},
   "outputs": [],
   "source": [
    "from sklearn.feature_extraction.text import CountVectorizer\n",
    "cs=CountVectorizer(max_features=5000, stop_words='english')"
   ]
  },
  {
   "cell_type": "code",
   "execution_count": 48,
   "id": "a27c1d8c-5e18-45c4-b1c2-856a39b9bbe7",
   "metadata": {},
   "outputs": [],
   "source": [
    "vectors=cs.fit_transform(new_df['tags']).toarray()"
   ]
  },
  {
   "cell_type": "code",
   "execution_count": 49,
   "id": "c2f420ba-bc2a-44c9-ac56-f85548ebcc5e",
   "metadata": {},
   "outputs": [
    {
     "data": {
      "text/plain": [
       "array([[0, 0, 0, ..., 0, 0, 0],\n",
       "       [0, 0, 0, ..., 0, 0, 0],\n",
       "       [0, 0, 0, ..., 0, 0, 0],\n",
       "       ...,\n",
       "       [0, 0, 0, ..., 0, 0, 0],\n",
       "       [0, 0, 0, ..., 0, 0, 0],\n",
       "       [0, 0, 0, ..., 0, 0, 0]], dtype=int64)"
      ]
     },
     "execution_count": 49,
     "metadata": {},
     "output_type": "execute_result"
    }
   ],
   "source": [
    "vectors"
   ]
  },
  {
   "cell_type": "code",
   "execution_count": 50,
   "id": "f2be3370-36c4-45d7-bc39-b7f22b87ff53",
   "metadata": {},
   "outputs": [
    {
     "data": {
      "text/plain": [
       "array([0, 0, 0, ..., 0, 0, 0], dtype=int64)"
      ]
     },
     "execution_count": 50,
     "metadata": {},
     "output_type": "execute_result"
    }
   ],
   "source": [
    "vectors[0]"
   ]
  },
  {
   "cell_type": "code",
   "execution_count": 51,
   "id": "c680cf5f-254d-40e8-810e-b4efa43cba03",
   "metadata": {},
   "outputs": [],
   "source": [
    "from sklearn.metrics.pairwise import cosine_similarity "
   ]
  },
  {
   "cell_type": "code",
   "execution_count": 52,
   "id": "c2172b21-5712-4690-937c-0bbac9733e39",
   "metadata": {},
   "outputs": [],
   "source": [
    "similarity = cosine_similarity(vectors)"
   ]
  },
  {
   "cell_type": "code",
   "execution_count": 53,
   "id": "ee799264-4f7d-4cfe-bc14-75ee06ac9ec7",
   "metadata": {},
   "outputs": [
    {
     "data": {
      "text/plain": [
       "array([1.        , 0.09553946, 0.03934447, ..., 0.25854384, 0.0404226 ,\n",
       "       0.12126781])"
      ]
     },
     "execution_count": 53,
     "metadata": {},
     "output_type": "execute_result"
    }
   ],
   "source": [
    "similarity[0]"
   ]
  },
  {
   "cell_type": "code",
   "execution_count": 54,
   "id": "cd11acfc-6c6d-49ce-95ae-1f2a8b30d19b",
   "metadata": {},
   "outputs": [],
   "source": [
    "def recommend(movie):\n",
    "    movie_index= new_df[new_df['Title']== movie].index[0]\n",
    "    distances= similarity[movie_index]\n",
    "    movie_list= sorted(list(enumerate(distances)), reverse= True,key=lambda x:x[1]) [1:6]   \n",
    "\n",
    "    for i in movie_list:\n",
    "        print(new_df.iloc[i[0]].Title)"
   ]
  },
  {
   "cell_type": "code",
   "execution_count": 55,
   "id": "bc1f784a-a87e-4438-b2b0-fd8908881b6d",
   "metadata": {},
   "outputs": [
    {
     "name": "stdout",
     "output_type": "stream",
     "text": [
      "Rustin\n",
      "The Nutty Professor\n",
      "A Futile and Stupid Gesture\n",
      "Adolf Hitler: The Greatest Story Never Told\n",
      "Operation Finale\n"
     ]
    }
   ],
   "source": [
    "recommend('Unfrosted')"
   ]
  },
  {
   "cell_type": "code",
   "execution_count": 56,
   "id": "a58d4729-3d4f-443a-823b-59d25e0e8ff5",
   "metadata": {},
   "outputs": [
    {
     "data": {
      "text/plain": [
       "'Bullet Train'"
      ]
     },
     "execution_count": 56,
     "metadata": {},
     "output_type": "execute_result"
    }
   ],
   "source": [
    "new_df.iloc[29].Title"
   ]
  },
  {
   "cell_type": "code",
   "execution_count": 57,
   "id": "c19c2e34-5897-4d71-995a-157c9b03d1cd",
   "metadata": {},
   "outputs": [],
   "source": [
    "import pickle "
   ]
  },
  {
   "cell_type": "code",
   "execution_count": 62,
   "id": "e454dfb3-af3e-47d9-8c9f-6e5847b3ae1c",
   "metadata": {},
   "outputs": [],
   "source": [
    "pickle.dump(new_df, open('movies.pkl','wb'))"
   ]
  },
  {
   "cell_type": "code",
   "execution_count": 61,
   "id": "c9a30267-3145-41e5-87be-fa3ef908f953",
   "metadata": {},
   "outputs": [],
   "source": [
    "pickle.dump (similarity, open('similarity.pkl','wb'))"
   ]
  }
 ],
 "metadata": {
  "kernelspec": {
   "display_name": "Python 3 (ipykernel)",
   "language": "python",
   "name": "python3"
  },
  "language_info": {
   "codemirror_mode": {
    "name": "ipython",
    "version": 3
   },
   "file_extension": ".py",
   "mimetype": "text/x-python",
   "name": "python",
   "nbconvert_exporter": "python",
   "pygments_lexer": "ipython3",
   "version": "3.12.6"
  }
 },
 "nbformat": 4,
 "nbformat_minor": 5
}
